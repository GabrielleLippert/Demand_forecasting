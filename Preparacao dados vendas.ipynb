{
 "cells": [
  {
   "cell_type": "markdown",
   "metadata": {
    "ExecuteTime": {
     "end_time": "2022-07-19T20:46:08.240572Z",
     "start_time": "2022-07-19T20:46:08.161208Z"
    }
   },
   "source": [
    "Data cleaning and preparation"
   ]
  },
  {
   "cell_type": "code",
   "execution_count": 1,
   "metadata": {
    "ExecuteTime": {
     "end_time": "2022-11-21T12:37:16.112880Z",
     "start_time": "2022-11-21T12:37:15.967504Z"
    }
   },
   "outputs": [],
   "source": [
    "# import libraries \n",
    "import pandas as pd\n",
    "import numpy as np\n",
    "import matplotlib.pyplot as plt\n",
    "from datetime import datetime"
   ]
  },
  {
   "cell_type": "code",
   "execution_count": 2,
   "metadata": {
    "ExecuteTime": {
     "end_time": "2022-11-21T12:37:18.714253Z",
     "start_time": "2022-11-21T12:37:18.489277Z"
    }
   },
   "outputs": [],
   "source": [
    "#read the csv containing sales information for each year\n",
    "#this data contain sensitive information and therefore are not available\n",
    "s_18 = pd.read_csv('sales_2018.csv', sep=\";\")\n",
    "s_19 = pd.read_csv('sales_2019.csv', sep=\";\")\n",
    "s_20 = pd.read_csv('sales_2020.csv', sep=\";\")\n",
    "s_21 = pd.read_csv('sales_2021.csv', sep=\";\")\n",
    "s_22 = pd.read_csv('sales_2022.csv', sep=\";\")"
   ]
  },
  {
   "cell_type": "code",
   "execution_count": 105,
   "metadata": {
    "ExecuteTime": {
     "end_time": "2022-11-21T18:39:54.970244Z",
     "start_time": "2022-11-21T18:39:54.952584Z"
    },
    "scrolled": false
   },
   "outputs": [
    {
     "data": {
      "text/html": [
       "<div>\n",
       "<style scoped>\n",
       "    .dataframe tbody tr th:only-of-type {\n",
       "        vertical-align: middle;\n",
       "    }\n",
       "\n",
       "    .dataframe tbody tr th {\n",
       "        vertical-align: top;\n",
       "    }\n",
       "\n",
       "    .dataframe thead th {\n",
       "        text-align: right;\n",
       "    }\n",
       "</style>\n",
       "<table border=\"1\" class=\"dataframe\">\n",
       "  <thead>\n",
       "    <tr style=\"text-align: right;\">\n",
       "      <th></th>\n",
       "      <th>order_id</th>\n",
       "      <th>order_date</th>\n",
       "      <th>qty</th>\n",
       "      <th>individual_price</th>\n",
       "      <th>order_total</th>\n",
       "    </tr>\n",
       "  </thead>\n",
       "  <tbody>\n",
       "    <tr>\n",
       "      <th>0</th>\n",
       "      <td>77127</td>\n",
       "      <td>2021-11-08 08:59:35+00:00</td>\n",
       "      <td>48</td>\n",
       "      <td>53</td>\n",
       "      <td>2667,95</td>\n",
       "    </tr>\n",
       "    <tr>\n",
       "      <th>1</th>\n",
       "      <td>77128</td>\n",
       "      <td>2021-11-08 09:00:41+00:00</td>\n",
       "      <td>16</td>\n",
       "      <td>53</td>\n",
       "      <td>888,19</td>\n",
       "    </tr>\n",
       "    <tr>\n",
       "      <th>2</th>\n",
       "      <td>77129</td>\n",
       "      <td>2021-11-08 09:00:47+00:00</td>\n",
       "      <td>48</td>\n",
       "      <td>53</td>\n",
       "      <td>2751,99</td>\n",
       "    </tr>\n",
       "    <tr>\n",
       "      <th>3</th>\n",
       "      <td>77130</td>\n",
       "      <td>2021-11-08 09:00:54+00:00</td>\n",
       "      <td>48</td>\n",
       "      <td>53</td>\n",
       "      <td>2667,95</td>\n",
       "    </tr>\n",
       "    <tr>\n",
       "      <th>4</th>\n",
       "      <td>77131</td>\n",
       "      <td>2021-11-08 09:00:56+00:00</td>\n",
       "      <td>48</td>\n",
       "      <td>53</td>\n",
       "      <td>2667,95</td>\n",
       "    </tr>\n",
       "  </tbody>\n",
       "</table>\n",
       "</div>"
      ],
      "text/plain": [
       "   order_id                order_date  qty  individual_price order_total\n",
       "0     77127 2021-11-08 08:59:35+00:00   48                53     2667,95\n",
       "1     77128 2021-11-08 09:00:41+00:00   16                53      888,19\n",
       "2     77129 2021-11-08 09:00:47+00:00   48                53     2751,99\n",
       "3     77130 2021-11-08 09:00:54+00:00   48                53     2667,95\n",
       "4     77131 2021-11-08 09:00:56+00:00   48                53     2667,95"
      ]
     },
     "execution_count": 105,
     "metadata": {},
     "output_type": "execute_result"
    }
   ],
   "source": [
    "#checking the dataframes \n",
    "s_18.columns\n",
    "s_22[['order_id', 'order_date', 'qty', 'individual_price', 'order_total']].head()"
   ]
  },
  {
   "cell_type": "code",
   "execution_count": 5,
   "metadata": {
    "ExecuteTime": {
     "end_time": "2022-11-21T13:18:13.843566Z",
     "start_time": "2022-11-21T13:18:13.835331Z"
    }
   },
   "outputs": [],
   "source": [
    "# function to use within the next\n",
    "\n",
    "def mkdf_timefreq(dist_sales, ind_sales, tfreq):\n",
    "    '''groups and sums the distributors and individual sales based on a given time variable of the data set \n",
    "    and creates two different DFs under these time frequencies, both detailing distributors, individual and \n",
    "    total sales quantity. \n",
    "    \n",
    "    dist_sales - df with distributors sales information\n",
    "    ind_sales - df with individual sales information\n",
    "    tfreq - df date column name'''\n",
    "    \n",
    "    #soma a quantidade de venda de cada grupo por dia\n",
    "    qdist = dist_sales.groupby([tfreq])['qty'].sum()\n",
    "    qind = ind_sales.groupby([tfreq])['qty'].sum()\n",
    "    #cria frame de cada grupo com novo index\n",
    "    df_dist = qdist.to_frame(name='qdist').reset_index()\n",
    "    df_ind = qind.to_frame(name='qind').reset_index()\n",
    "    \n",
    "    #funde ambos frames pela data\n",
    "    s_tf = pd.merge(df_ind, df_dist, how='outer', on=tfreq)\n",
    "    s_tf = s_tf.sort_values(by=tfreq)\n",
    "    #completa espaços em branco com 0\n",
    "    s_tf = s_tf.fillna(0)\n",
    "    #cria a variavel da quantidade total pela soma das quantidades de cada grupo\n",
    "    s_tf['qtotal'] = s_tf['qind'] + s_tf['qdist']\n",
    "    \n",
    "    return s_tf"
   ]
  },
  {
   "cell_type": "code",
   "execution_count": 58,
   "metadata": {
    "ExecuteTime": {
     "end_time": "2022-11-21T17:49:22.473706Z",
     "start_time": "2022-11-21T17:49:22.453980Z"
    },
    "code_folding": [],
    "scrolled": true
   },
   "outputs": [],
   "source": [
    "#this function selects the information we need from all the sales dfs\n",
    "\n",
    "def select_transform(df):\n",
    "    '''convert dates into datetime format, split the sales between those for distributors and those for \n",
    "    final custumers and call the first function to sum the quantities of each client type on daily and monthly\n",
    "    basis'''\n",
    "\n",
    "    #transform variable 'order_date' in 'date' on datetime format\n",
    "    df['order_date'] = pd.to_datetime(df['order_date'], utc=True)\n",
    "    df['date'] = pd.to_datetime(df['order_date'].dt.date)\n",
    "    #organize by date\n",
    "    df = df.sort_values(by='date')\n",
    "    #extract month from date\n",
    "    df['month'] = df['date'].astype('datetime64[M]')\n",
    "    \n",
    "    #split between sales for distributors and for individuals\n",
    "    dist = df[df['individual_price'] < 60]\n",
    "    ind = df[df['individual_price'] > 60]\n",
    "    \n",
    "    #call the function that will sum and create the dfs\n",
    "    sales_day = mkdf_timefreq(dist, ind, 'date')\n",
    "    sales_month = mkdf_timefreq(dist, ind, 'month')\n",
    "      \n",
    "    return sales_day, sales_month"
   ]
  },
  {
   "cell_type": "code",
   "execution_count": 59,
   "metadata": {
    "ExecuteTime": {
     "end_time": "2022-11-21T17:49:25.735742Z",
     "start_time": "2022-11-21T17:49:25.527405Z"
    }
   },
   "outputs": [],
   "source": [
    "#list the dfs\n",
    "data_list = [s_18, s_19, s_20, s_21, s_22]\n",
    "\n",
    "#iterate through dfs to append all years\n",
    "sales_day = pd.DataFrame()\n",
    "sales_month = pd.DataFrame()\n",
    "\n",
    "for i in data_list:\n",
    "    s_day, s_month = select_transform(i)\n",
    "    sales_day = sales_day.append(s_day, ignore_index=True)\n",
    "    sales_month = sales_month.append(s_month, ignore_index = True)"
   ]
  },
  {
   "cell_type": "code",
   "execution_count": 60,
   "metadata": {
    "ExecuteTime": {
     "end_time": "2022-11-21T17:49:31.271667Z",
     "start_time": "2022-11-21T17:49:31.257460Z"
    }
   },
   "outputs": [
    {
     "data": {
      "text/html": [
       "<div>\n",
       "<style scoped>\n",
       "    .dataframe tbody tr th:only-of-type {\n",
       "        vertical-align: middle;\n",
       "    }\n",
       "\n",
       "    .dataframe tbody tr th {\n",
       "        vertical-align: top;\n",
       "    }\n",
       "\n",
       "    .dataframe thead th {\n",
       "        text-align: right;\n",
       "    }\n",
       "</style>\n",
       "<table border=\"1\" class=\"dataframe\">\n",
       "  <thead>\n",
       "    <tr style=\"text-align: right;\">\n",
       "      <th></th>\n",
       "      <th>date</th>\n",
       "      <th>qind</th>\n",
       "      <th>qdist</th>\n",
       "      <th>qtotal</th>\n",
       "    </tr>\n",
       "  </thead>\n",
       "  <tbody>\n",
       "    <tr>\n",
       "      <th>604</th>\n",
       "      <td>2022-06-10</td>\n",
       "      <td>0.0</td>\n",
       "      <td>60.0</td>\n",
       "      <td>60.0</td>\n",
       "    </tr>\n",
       "    <tr>\n",
       "      <th>605</th>\n",
       "      <td>2022-06-11</td>\n",
       "      <td>0.0</td>\n",
       "      <td>17.0</td>\n",
       "      <td>17.0</td>\n",
       "    </tr>\n",
       "    <tr>\n",
       "      <th>606</th>\n",
       "      <td>2022-06-12</td>\n",
       "      <td>0.0</td>\n",
       "      <td>10.0</td>\n",
       "      <td>10.0</td>\n",
       "    </tr>\n",
       "    <tr>\n",
       "      <th>607</th>\n",
       "      <td>2022-06-13</td>\n",
       "      <td>0.0</td>\n",
       "      <td>20.0</td>\n",
       "      <td>20.0</td>\n",
       "    </tr>\n",
       "    <tr>\n",
       "      <th>608</th>\n",
       "      <td>2022-06-14</td>\n",
       "      <td>0.0</td>\n",
       "      <td>37.0</td>\n",
       "      <td>37.0</td>\n",
       "    </tr>\n",
       "    <tr>\n",
       "      <th>609</th>\n",
       "      <td>2022-06-15</td>\n",
       "      <td>0.0</td>\n",
       "      <td>18.0</td>\n",
       "      <td>18.0</td>\n",
       "    </tr>\n",
       "    <tr>\n",
       "      <th>610</th>\n",
       "      <td>2022-06-16</td>\n",
       "      <td>0.0</td>\n",
       "      <td>20.0</td>\n",
       "      <td>20.0</td>\n",
       "    </tr>\n",
       "    <tr>\n",
       "      <th>611</th>\n",
       "      <td>2022-06-17</td>\n",
       "      <td>0.0</td>\n",
       "      <td>28.0</td>\n",
       "      <td>28.0</td>\n",
       "    </tr>\n",
       "    <tr>\n",
       "      <th>612</th>\n",
       "      <td>2022-06-18</td>\n",
       "      <td>0.0</td>\n",
       "      <td>25.0</td>\n",
       "      <td>25.0</td>\n",
       "    </tr>\n",
       "    <tr>\n",
       "      <th>613</th>\n",
       "      <td>2022-06-19</td>\n",
       "      <td>0.0</td>\n",
       "      <td>27.0</td>\n",
       "      <td>27.0</td>\n",
       "    </tr>\n",
       "  </tbody>\n",
       "</table>\n",
       "</div>"
      ],
      "text/plain": [
       "          date  qind  qdist  qtotal\n",
       "604 2022-06-10   0.0   60.0    60.0\n",
       "605 2022-06-11   0.0   17.0    17.0\n",
       "606 2022-06-12   0.0   10.0    10.0\n",
       "607 2022-06-13   0.0   20.0    20.0\n",
       "608 2022-06-14   0.0   37.0    37.0\n",
       "609 2022-06-15   0.0   18.0    18.0\n",
       "610 2022-06-16   0.0   20.0    20.0\n",
       "611 2022-06-17   0.0   28.0    28.0\n",
       "612 2022-06-18   0.0   25.0    25.0\n",
       "613 2022-06-19   0.0   27.0    27.0"
      ]
     },
     "execution_count": 60,
     "metadata": {},
     "output_type": "execute_result"
    }
   ],
   "source": [
    "#visualizing the result \n",
    "sales_day.tail(10)"
   ]
  },
  {
   "cell_type": "code",
   "execution_count": 17,
   "metadata": {
    "ExecuteTime": {
     "end_time": "2022-11-21T14:03:36.884824Z",
     "start_time": "2022-11-21T14:03:36.858805Z"
    },
    "scrolled": false
   },
   "outputs": [
    {
     "data": {
      "text/html": [
       "<div>\n",
       "<style scoped>\n",
       "    .dataframe tbody tr th:only-of-type {\n",
       "        vertical-align: middle;\n",
       "    }\n",
       "\n",
       "    .dataframe tbody tr th {\n",
       "        vertical-align: top;\n",
       "    }\n",
       "\n",
       "    .dataframe thead th {\n",
       "        text-align: right;\n",
       "    }\n",
       "</style>\n",
       "<table border=\"1\" class=\"dataframe\">\n",
       "  <thead>\n",
       "    <tr style=\"text-align: right;\">\n",
       "      <th></th>\n",
       "      <th>month</th>\n",
       "      <th>qind</th>\n",
       "      <th>qdist</th>\n",
       "      <th>qtotal</th>\n",
       "    </tr>\n",
       "  </thead>\n",
       "  <tbody>\n",
       "    <tr>\n",
       "      <th>19</th>\n",
       "      <td>2021-01-01</td>\n",
       "      <td>1062.0</td>\n",
       "      <td>464.0</td>\n",
       "      <td>1526.0</td>\n",
       "    </tr>\n",
       "    <tr>\n",
       "      <th>20</th>\n",
       "      <td>2021-02-01</td>\n",
       "      <td>0.0</td>\n",
       "      <td>32.0</td>\n",
       "      <td>32.0</td>\n",
       "    </tr>\n",
       "    <tr>\n",
       "      <th>21</th>\n",
       "      <td>2021-11-01</td>\n",
       "      <td>7548.0</td>\n",
       "      <td>34992.0</td>\n",
       "      <td>42540.0</td>\n",
       "    </tr>\n",
       "    <tr>\n",
       "      <th>22</th>\n",
       "      <td>2021-12-01</td>\n",
       "      <td>6558.0</td>\n",
       "      <td>1456.0</td>\n",
       "      <td>8014.0</td>\n",
       "    </tr>\n",
       "    <tr>\n",
       "      <th>23</th>\n",
       "      <td>2022-01-01</td>\n",
       "      <td>4060.0</td>\n",
       "      <td>96.0</td>\n",
       "      <td>4156.0</td>\n",
       "    </tr>\n",
       "    <tr>\n",
       "      <th>24</th>\n",
       "      <td>2022-02-01</td>\n",
       "      <td>1148.0</td>\n",
       "      <td>112.0</td>\n",
       "      <td>1260.0</td>\n",
       "    </tr>\n",
       "    <tr>\n",
       "      <th>25</th>\n",
       "      <td>2022-03-01</td>\n",
       "      <td>680.0</td>\n",
       "      <td>0.0</td>\n",
       "      <td>680.0</td>\n",
       "    </tr>\n",
       "    <tr>\n",
       "      <th>26</th>\n",
       "      <td>2022-04-01</td>\n",
       "      <td>353.0</td>\n",
       "      <td>0.0</td>\n",
       "      <td>353.0</td>\n",
       "    </tr>\n",
       "    <tr>\n",
       "      <th>27</th>\n",
       "      <td>2022-05-01</td>\n",
       "      <td>319.0</td>\n",
       "      <td>383.0</td>\n",
       "      <td>702.0</td>\n",
       "    </tr>\n",
       "    <tr>\n",
       "      <th>28</th>\n",
       "      <td>2022-06-01</td>\n",
       "      <td>0.0</td>\n",
       "      <td>564.0</td>\n",
       "      <td>564.0</td>\n",
       "    </tr>\n",
       "  </tbody>\n",
       "</table>\n",
       "</div>"
      ],
      "text/plain": [
       "        month    qind    qdist   qtotal\n",
       "19 2021-01-01  1062.0    464.0   1526.0\n",
       "20 2021-02-01     0.0     32.0     32.0\n",
       "21 2021-11-01  7548.0  34992.0  42540.0\n",
       "22 2021-12-01  6558.0   1456.0   8014.0\n",
       "23 2022-01-01  4060.0     96.0   4156.0\n",
       "24 2022-02-01  1148.0    112.0   1260.0\n",
       "25 2022-03-01   680.0      0.0    680.0\n",
       "26 2022-04-01   353.0      0.0    353.0\n",
       "27 2022-05-01   319.0    383.0    702.0\n",
       "28 2022-06-01     0.0    564.0    564.0"
      ]
     },
     "execution_count": 17,
     "metadata": {},
     "output_type": "execute_result"
    }
   ],
   "source": [
    "#visualizing the result \n",
    "sales_month.tail(10)"
   ]
  },
  {
   "cell_type": "code",
   "execution_count": 61,
   "metadata": {
    "ExecuteTime": {
     "end_time": "2022-11-21T17:49:47.264100Z",
     "start_time": "2022-11-21T17:49:47.252768Z"
    },
    "scrolled": true
   },
   "outputs": [],
   "source": [
    "#fill missing dates with zero sales on daily df\n",
    "idx = pd.date_range('2017-07-01', '2022-06-30')\n",
    "sales_day = sales_day.set_index(['date'])\n",
    "sales_day = sales_day.reindex(idx, fill_value=0).reset_index()\n",
    "sales_day = sales_day.rename(columns={'index': 'date'})"
   ]
  },
  {
   "cell_type": "code",
   "execution_count": 96,
   "metadata": {
    "ExecuteTime": {
     "end_time": "2022-11-21T18:28:23.575471Z",
     "start_time": "2022-11-21T18:28:23.549388Z"
    },
    "scrolled": true
   },
   "outputs": [
    {
     "data": {
      "text/html": [
       "<div>\n",
       "<style scoped>\n",
       "    .dataframe tbody tr th:only-of-type {\n",
       "        vertical-align: middle;\n",
       "    }\n",
       "\n",
       "    .dataframe tbody tr th {\n",
       "        vertical-align: top;\n",
       "    }\n",
       "\n",
       "    .dataframe thead th {\n",
       "        text-align: right;\n",
       "    }\n",
       "</style>\n",
       "<table border=\"1\" class=\"dataframe\">\n",
       "  <thead>\n",
       "    <tr style=\"text-align: right;\">\n",
       "      <th></th>\n",
       "      <th>date</th>\n",
       "      <th>qind</th>\n",
       "      <th>qdist</th>\n",
       "      <th>qtotal</th>\n",
       "    </tr>\n",
       "  </thead>\n",
       "  <tbody>\n",
       "    <tr>\n",
       "      <th>1235</th>\n",
       "      <td>2020-11-17</td>\n",
       "      <td>0.0</td>\n",
       "      <td>0.0</td>\n",
       "      <td>0.0</td>\n",
       "    </tr>\n",
       "    <tr>\n",
       "      <th>1236</th>\n",
       "      <td>2020-11-18</td>\n",
       "      <td>0.0</td>\n",
       "      <td>0.0</td>\n",
       "      <td>0.0</td>\n",
       "    </tr>\n",
       "    <tr>\n",
       "      <th>1237</th>\n",
       "      <td>2020-11-19</td>\n",
       "      <td>0.0</td>\n",
       "      <td>0.0</td>\n",
       "      <td>0.0</td>\n",
       "    </tr>\n",
       "    <tr>\n",
       "      <th>1238</th>\n",
       "      <td>2020-11-20</td>\n",
       "      <td>0.0</td>\n",
       "      <td>0.0</td>\n",
       "      <td>0.0</td>\n",
       "    </tr>\n",
       "    <tr>\n",
       "      <th>1239</th>\n",
       "      <td>2020-11-21</td>\n",
       "      <td>0.0</td>\n",
       "      <td>0.0</td>\n",
       "      <td>0.0</td>\n",
       "    </tr>\n",
       "    <tr>\n",
       "      <th>1240</th>\n",
       "      <td>2020-11-22</td>\n",
       "      <td>6564.0</td>\n",
       "      <td>13696.0</td>\n",
       "      <td>20260.0</td>\n",
       "    </tr>\n",
       "    <tr>\n",
       "      <th>1241</th>\n",
       "      <td>2020-11-23</td>\n",
       "      <td>1394.0</td>\n",
       "      <td>2064.0</td>\n",
       "      <td>3458.0</td>\n",
       "    </tr>\n",
       "    <tr>\n",
       "      <th>1242</th>\n",
       "      <td>2020-11-24</td>\n",
       "      <td>1326.0</td>\n",
       "      <td>0.0</td>\n",
       "      <td>1326.0</td>\n",
       "    </tr>\n",
       "    <tr>\n",
       "      <th>1243</th>\n",
       "      <td>2020-11-25</td>\n",
       "      <td>18.0</td>\n",
       "      <td>0.0</td>\n",
       "      <td>18.0</td>\n",
       "    </tr>\n",
       "    <tr>\n",
       "      <th>1244</th>\n",
       "      <td>2020-11-26</td>\n",
       "      <td>0.0</td>\n",
       "      <td>976.0</td>\n",
       "      <td>976.0</td>\n",
       "    </tr>\n",
       "  </tbody>\n",
       "</table>\n",
       "</div>"
      ],
      "text/plain": [
       "           date    qind    qdist   qtotal\n",
       "1235 2020-11-17     0.0      0.0      0.0\n",
       "1236 2020-11-18     0.0      0.0      0.0\n",
       "1237 2020-11-19     0.0      0.0      0.0\n",
       "1238 2020-11-20     0.0      0.0      0.0\n",
       "1239 2020-11-21     0.0      0.0      0.0\n",
       "1240 2020-11-22  6564.0  13696.0  20260.0\n",
       "1241 2020-11-23  1394.0   2064.0   3458.0\n",
       "1242 2020-11-24  1326.0      0.0   1326.0\n",
       "1243 2020-11-25    18.0      0.0     18.0\n",
       "1244 2020-11-26     0.0    976.0    976.0"
      ]
     },
     "execution_count": 96,
     "metadata": {},
     "output_type": "execute_result"
    }
   ],
   "source": [
    "#checking results\n",
    "sales_day.iloc[1235:1245,]"
   ]
  },
  {
   "cell_type": "code",
   "execution_count": 72,
   "metadata": {
    "ExecuteTime": {
     "end_time": "2022-11-21T17:59:15.242081Z",
     "start_time": "2022-11-21T17:59:15.161058Z"
    },
    "scrolled": true
   },
   "outputs": [],
   "source": [
    "#fill missing months with zero sales\n",
    "idx = pd.date_range('2017-07-01', '2022-06-01')\n",
    "df = pd.DataFrame({'date': idx})\n",
    "df['date'] = pd.to_datetime(df['date'].dt.date)\n",
    "df['month'] = df['date'].astype('datetime64[M]')\n",
    "df.drop('date', inplace=True, axis=1)\n",
    "\n",
    "month = df.groupby(['month']).sum()\n",
    "month = month.reset_index().replace(0, np.nan)\n",
    "\n",
    "comp_sales_month = pd.merge_ordered(month, sales_month, on='month').fillna(0)\n",
    "#vendas_mes_comp.to_csv('vendas_mes_comp.csv', index=False)"
   ]
  },
  {
   "cell_type": "code",
   "execution_count": 95,
   "metadata": {
    "ExecuteTime": {
     "end_time": "2022-11-21T18:28:20.256140Z",
     "start_time": "2022-11-21T18:28:20.224831Z"
    }
   },
   "outputs": [
    {
     "data": {
      "text/html": [
       "<div>\n",
       "<style scoped>\n",
       "    .dataframe tbody tr th:only-of-type {\n",
       "        vertical-align: middle;\n",
       "    }\n",
       "\n",
       "    .dataframe tbody tr th {\n",
       "        vertical-align: top;\n",
       "    }\n",
       "\n",
       "    .dataframe thead th {\n",
       "        text-align: right;\n",
       "    }\n",
       "</style>\n",
       "<table border=\"1\" class=\"dataframe\">\n",
       "  <thead>\n",
       "    <tr style=\"text-align: right;\">\n",
       "      <th></th>\n",
       "      <th>month</th>\n",
       "      <th>qind</th>\n",
       "      <th>qdist</th>\n",
       "      <th>qtotal</th>\n",
       "    </tr>\n",
       "  </thead>\n",
       "  <tbody>\n",
       "    <tr>\n",
       "      <th>45</th>\n",
       "      <td>2021-04-01</td>\n",
       "      <td>0.0</td>\n",
       "      <td>0.0</td>\n",
       "      <td>0.0</td>\n",
       "    </tr>\n",
       "    <tr>\n",
       "      <th>46</th>\n",
       "      <td>2021-05-01</td>\n",
       "      <td>0.0</td>\n",
       "      <td>0.0</td>\n",
       "      <td>0.0</td>\n",
       "    </tr>\n",
       "    <tr>\n",
       "      <th>47</th>\n",
       "      <td>2021-06-01</td>\n",
       "      <td>0.0</td>\n",
       "      <td>0.0</td>\n",
       "      <td>0.0</td>\n",
       "    </tr>\n",
       "    <tr>\n",
       "      <th>48</th>\n",
       "      <td>2021-07-01</td>\n",
       "      <td>0.0</td>\n",
       "      <td>0.0</td>\n",
       "      <td>0.0</td>\n",
       "    </tr>\n",
       "    <tr>\n",
       "      <th>49</th>\n",
       "      <td>2021-08-01</td>\n",
       "      <td>0.0</td>\n",
       "      <td>0.0</td>\n",
       "      <td>0.0</td>\n",
       "    </tr>\n",
       "    <tr>\n",
       "      <th>50</th>\n",
       "      <td>2021-09-01</td>\n",
       "      <td>0.0</td>\n",
       "      <td>0.0</td>\n",
       "      <td>0.0</td>\n",
       "    </tr>\n",
       "    <tr>\n",
       "      <th>51</th>\n",
       "      <td>2021-10-01</td>\n",
       "      <td>0.0</td>\n",
       "      <td>0.0</td>\n",
       "      <td>0.0</td>\n",
       "    </tr>\n",
       "    <tr>\n",
       "      <th>52</th>\n",
       "      <td>2021-11-01</td>\n",
       "      <td>7548.0</td>\n",
       "      <td>34992.0</td>\n",
       "      <td>42540.0</td>\n",
       "    </tr>\n",
       "    <tr>\n",
       "      <th>53</th>\n",
       "      <td>2021-12-01</td>\n",
       "      <td>6558.0</td>\n",
       "      <td>1456.0</td>\n",
       "      <td>8014.0</td>\n",
       "    </tr>\n",
       "    <tr>\n",
       "      <th>54</th>\n",
       "      <td>2022-01-01</td>\n",
       "      <td>4060.0</td>\n",
       "      <td>96.0</td>\n",
       "      <td>4156.0</td>\n",
       "    </tr>\n",
       "    <tr>\n",
       "      <th>55</th>\n",
       "      <td>2022-02-01</td>\n",
       "      <td>1148.0</td>\n",
       "      <td>112.0</td>\n",
       "      <td>1260.0</td>\n",
       "    </tr>\n",
       "    <tr>\n",
       "      <th>56</th>\n",
       "      <td>2022-03-01</td>\n",
       "      <td>680.0</td>\n",
       "      <td>0.0</td>\n",
       "      <td>680.0</td>\n",
       "    </tr>\n",
       "    <tr>\n",
       "      <th>57</th>\n",
       "      <td>2022-04-01</td>\n",
       "      <td>353.0</td>\n",
       "      <td>0.0</td>\n",
       "      <td>353.0</td>\n",
       "    </tr>\n",
       "    <tr>\n",
       "      <th>58</th>\n",
       "      <td>2022-05-01</td>\n",
       "      <td>319.0</td>\n",
       "      <td>383.0</td>\n",
       "      <td>702.0</td>\n",
       "    </tr>\n",
       "    <tr>\n",
       "      <th>59</th>\n",
       "      <td>2022-06-01</td>\n",
       "      <td>0.0</td>\n",
       "      <td>564.0</td>\n",
       "      <td>564.0</td>\n",
       "    </tr>\n",
       "  </tbody>\n",
       "</table>\n",
       "</div>"
      ],
      "text/plain": [
       "        month    qind    qdist   qtotal\n",
       "45 2021-04-01     0.0      0.0      0.0\n",
       "46 2021-05-01     0.0      0.0      0.0\n",
       "47 2021-06-01     0.0      0.0      0.0\n",
       "48 2021-07-01     0.0      0.0      0.0\n",
       "49 2021-08-01     0.0      0.0      0.0\n",
       "50 2021-09-01     0.0      0.0      0.0\n",
       "51 2021-10-01     0.0      0.0      0.0\n",
       "52 2021-11-01  7548.0  34992.0  42540.0\n",
       "53 2021-12-01  6558.0   1456.0   8014.0\n",
       "54 2022-01-01  4060.0     96.0   4156.0\n",
       "55 2022-02-01  1148.0    112.0   1260.0\n",
       "56 2022-03-01   680.0      0.0    680.0\n",
       "57 2022-04-01   353.0      0.0    353.0\n",
       "58 2022-05-01   319.0    383.0    702.0\n",
       "59 2022-06-01     0.0    564.0    564.0"
      ]
     },
     "execution_count": 95,
     "metadata": {},
     "output_type": "execute_result"
    }
   ],
   "source": [
    "#checking monthly sales df\n",
    "comp_sales_month.tail(15)"
   ]
  },
  {
   "cell_type": "code",
   "execution_count": 74,
   "metadata": {
    "ExecuteTime": {
     "end_time": "2022-11-21T17:59:31.574629Z",
     "start_time": "2022-11-21T17:59:31.383290Z"
    },
    "scrolled": true
   },
   "outputs": [
    {
     "data": {
      "text/plain": [
       "<AxesSubplot:title={'center':'Vendas por dia'}, xlabel='date'>"
      ]
     },
     "execution_count": 74,
     "metadata": {},
     "output_type": "execute_result"
    },
    {
     "data": {
      "image/png": "[encoded data removed]",
      "text/plain": [
       "<Figure size 432x288 with 1 Axes>"
      ]
     },
     "metadata": {
      "needs_background": "light"
     },
     "output_type": "display_data"
    }
   ],
   "source": [
    "#a first vision of the daily sales\n",
    "sales_day.plot(x='date', y='qtotal', title='Vendas por dia')"
   ]
  },
  {
   "cell_type": "code",
   "execution_count": 78,
   "metadata": {
    "ExecuteTime": {
     "end_time": "2022-11-21T18:01:40.250118Z",
     "start_time": "2022-11-21T18:01:40.087369Z"
    },
    "scrolled": true
   },
   "outputs": [
    {
     "data": {
      "text/plain": [
       "<AxesSubplot:title={'center':'Vendas por mes'}, xlabel='month', ylabel='qtotal'>"
      ]
     },
     "execution_count": 78,
     "metadata": {},
     "output_type": "execute_result"
    },
    {
     "data": {
      "image/png": "[encoded data removed]",
      "text/plain": [
       "<Figure size 432x288 with 1 Axes>"
      ]
     },
     "metadata": {
      "needs_background": "light"
     },
     "output_type": "display_data"
    }
   ],
   "source": [
    "#a first vision of monthly sales\n",
    "comp_sales_month.plot.scatter(x='month', y='qtotal', title='Vendas por mes')"
   ]
  },
  {
   "cell_type": "code",
   "execution_count": 80,
   "metadata": {
    "ExecuteTime": {
     "end_time": "2022-11-21T18:20:22.754790Z",
     "start_time": "2022-11-21T18:20:22.740224Z"
    }
   },
   "outputs": [],
   "source": [
    "#setting index to plot the data\n",
    "sd = sales_day.set_index(['date'])\n",
    "sm = comp_sales_month.set_index(['month'])"
   ]
  },
  {
   "cell_type": "code",
   "execution_count": 94,
   "metadata": {
    "ExecuteTime": {
     "end_time": "2022-11-21T18:23:21.910100Z",
     "start_time": "2022-11-21T18:23:21.713491Z"
    },
    "scrolled": true
   },
   "outputs": [
    {
     "data": {
      "image/png": "[encoded data removed]",
      "text/plain": [
       "<Figure size 720x504 with 1 Axes>"
      ]
     },
     "metadata": {
      "needs_background": "light"
     },
     "output_type": "display_data"
    }
   ],
   "source": [
    "#plot monthly sales to distributors and final custumers\n",
    "sm[['qind', 'qdist']].plot(figsize=(10, 7))\n",
    "plt.show()"
   ]
  },
  {
   "cell_type": "code",
   "execution_count": 97,
   "metadata": {
    "ExecuteTime": {
     "end_time": "2022-11-21T18:28:59.403242Z",
     "start_time": "2022-11-21T18:28:59.345507Z"
    }
   },
   "outputs": [],
   "source": [
    "#salva csv\n",
    "sales_day.to_csv('vendas_por_dia.csv', index=False)\n",
    "comp_sales_month.to_csv('vendas_por_mes.csv', index=False)"
   ]
  }
 ],
 "metadata": {
  "kernelspec": {
   "display_name": "Python 3",
   "language": "python",
   "name": "python3"
  },
  "language_info": {
   "codemirror_mode": {
    "name": "ipython",
    "version": 3
   },
   "file_extension": ".py",
   "mimetype": "text/x-python",
   "name": "python",
   "nbconvert_exporter": "python",
   "pygments_lexer": "ipython3",
   "version": "3.7.7"
  },
  "toc": {
   "base_numbering": 1,
   "nav_menu": {},
   "number_sections": false,
   "sideBar": true,
   "skip_h1_title": false,
   "title_cell": "Table of Contents",
   "title_sidebar": "Contents",
   "toc_cell": false,
   "toc_position": {},
   "toc_section_display": true,
   "toc_window_display": false
  }
 },
 "nbformat": 4,
 "nbformat_minor": 4
}
