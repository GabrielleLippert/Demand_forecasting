{
 "cells": [
  {
   "cell_type": "markdown",
   "metadata": {},
   "source": [
    "Regression Analysis"
   ]
  },
  {
   "cell_type": "markdown",
   "metadata": {},
   "source": [
    "This section performs a linear regression analysis using the sales data. However largely used for forecasting, I will not take this results as a prediction as demand is not allways linear in time. Since other reliable source of data are not available in the needed amount for a more robust regression analysis, I run this one as a means of getting an idea about the general sales trend for next year."
   ]
  },
  {
   "cell_type": "code",
   "execution_count": 1,
   "metadata": {
    "ExecuteTime": {
     "end_time": "2022-11-23T14:18:20.505547Z",
     "start_time": "2022-11-23T14:18:20.113513Z"
    }
   },
   "outputs": [],
   "source": [
    "#import libraries\n",
    "import pandas as pd\n",
    "import numpy as np\n",
    "import matplotlib.pyplot as plt\n",
    "from sklearn.linear_model import LinearRegression"
   ]
  },
  {
   "cell_type": "code",
   "execution_count": 5,
   "metadata": {
    "ExecuteTime": {
     "end_time": "2022-11-23T14:21:52.192558Z",
     "start_time": "2022-11-23T14:21:52.177623Z"
    }
   },
   "outputs": [],
   "source": [
    "#read the cleaned data\n",
    "sales = pd.read_csv('vendas_por_mes.csv')"
   ]
  },
  {
   "cell_type": "code",
   "execution_count": 56,
   "metadata": {
    "ExecuteTime": {
     "end_time": "2022-11-23T17:45:51.368116Z",
     "start_time": "2022-11-23T17:45:51.338793Z"
    },
    "scrolled": true
   },
   "outputs": [
    {
     "data": {
      "text/html": [
       "<div>\n",
       "<style scoped>\n",
       "    .dataframe tbody tr th:only-of-type {\n",
       "        vertical-align: middle;\n",
       "    }\n",
       "\n",
       "    .dataframe tbody tr th {\n",
       "        vertical-align: top;\n",
       "    }\n",
       "\n",
       "    .dataframe thead th {\n",
       "        text-align: right;\n",
       "    }\n",
       "</style>\n",
       "<table border=\"1\" class=\"dataframe\">\n",
       "  <thead>\n",
       "    <tr style=\"text-align: right;\">\n",
       "      <th></th>\n",
       "      <th>month</th>\n",
       "      <th>qind</th>\n",
       "      <th>qdist</th>\n",
       "      <th>qtotal</th>\n",
       "    </tr>\n",
       "  </thead>\n",
       "  <tbody>\n",
       "    <tr>\n",
       "      <th>50</th>\n",
       "      <td>2021-09-01</td>\n",
       "      <td>0.0</td>\n",
       "      <td>0.0</td>\n",
       "      <td>0.0</td>\n",
       "    </tr>\n",
       "    <tr>\n",
       "      <th>51</th>\n",
       "      <td>2021-10-01</td>\n",
       "      <td>0.0</td>\n",
       "      <td>0.0</td>\n",
       "      <td>0.0</td>\n",
       "    </tr>\n",
       "    <tr>\n",
       "      <th>52</th>\n",
       "      <td>2021-11-01</td>\n",
       "      <td>7548.0</td>\n",
       "      <td>34992.0</td>\n",
       "      <td>42540.0</td>\n",
       "    </tr>\n",
       "    <tr>\n",
       "      <th>53</th>\n",
       "      <td>2021-12-01</td>\n",
       "      <td>6558.0</td>\n",
       "      <td>1456.0</td>\n",
       "      <td>8014.0</td>\n",
       "    </tr>\n",
       "    <tr>\n",
       "      <th>54</th>\n",
       "      <td>2022-01-01</td>\n",
       "      <td>4060.0</td>\n",
       "      <td>96.0</td>\n",
       "      <td>4156.0</td>\n",
       "    </tr>\n",
       "    <tr>\n",
       "      <th>55</th>\n",
       "      <td>2022-02-01</td>\n",
       "      <td>1148.0</td>\n",
       "      <td>112.0</td>\n",
       "      <td>1260.0</td>\n",
       "    </tr>\n",
       "    <tr>\n",
       "      <th>56</th>\n",
       "      <td>2022-03-01</td>\n",
       "      <td>680.0</td>\n",
       "      <td>0.0</td>\n",
       "      <td>680.0</td>\n",
       "    </tr>\n",
       "    <tr>\n",
       "      <th>57</th>\n",
       "      <td>2022-04-01</td>\n",
       "      <td>353.0</td>\n",
       "      <td>0.0</td>\n",
       "      <td>353.0</td>\n",
       "    </tr>\n",
       "    <tr>\n",
       "      <th>58</th>\n",
       "      <td>2022-05-01</td>\n",
       "      <td>319.0</td>\n",
       "      <td>383.0</td>\n",
       "      <td>702.0</td>\n",
       "    </tr>\n",
       "    <tr>\n",
       "      <th>59</th>\n",
       "      <td>2022-06-01</td>\n",
       "      <td>0.0</td>\n",
       "      <td>564.0</td>\n",
       "      <td>564.0</td>\n",
       "    </tr>\n",
       "  </tbody>\n",
       "</table>\n",
       "</div>"
      ],
      "text/plain": [
       "        month    qind    qdist   qtotal\n",
       "50 2021-09-01     0.0      0.0      0.0\n",
       "51 2021-10-01     0.0      0.0      0.0\n",
       "52 2021-11-01  7548.0  34992.0  42540.0\n",
       "53 2021-12-01  6558.0   1456.0   8014.0\n",
       "54 2022-01-01  4060.0     96.0   4156.0\n",
       "55 2022-02-01  1148.0    112.0   1260.0\n",
       "56 2022-03-01   680.0      0.0    680.0\n",
       "57 2022-04-01   353.0      0.0    353.0\n",
       "58 2022-05-01   319.0    383.0    702.0\n",
       "59 2022-06-01     0.0    564.0    564.0"
      ]
     },
     "execution_count": 56,
     "metadata": {},
     "output_type": "execute_result"
    }
   ],
   "source": [
    "#checking the df\n",
    "sales.tail(10)"
   ]
  },
  {
   "cell_type": "code",
   "execution_count": 8,
   "metadata": {
    "ExecuteTime": {
     "end_time": "2022-11-23T14:35:56.971210Z",
     "start_time": "2022-11-23T14:35:56.954995Z"
    },
    "scrolled": true
   },
   "outputs": [
    {
     "data": {
      "text/plain": [
       "month     datetime64[ns]\n",
       "qind             float64\n",
       "qdist            float64\n",
       "qtotal           float64\n",
       "dtype: object"
      ]
     },
     "execution_count": 8,
     "metadata": {},
     "output_type": "execute_result"
    }
   ],
   "source": [
    "#change date to datetime format\n",
    "sales['month'] = pd.to_datetime(sales['month'])\n",
    "sales.dtypes"
   ]
  },
  {
   "cell_type": "code",
   "execution_count": 77,
   "metadata": {
    "ExecuteTime": {
     "end_time": "2022-11-23T17:55:54.613136Z",
     "start_time": "2022-11-23T17:55:54.576891Z"
    },
    "scrolled": false
   },
   "outputs": [],
   "source": [
    "#Since I've been told that the best for the company is to have all the stocks sold by february, once this \n",
    "#minimizes sales costs, I used this time slice to make the analysis.\n",
    "\n",
    "#create an empty df with the years in the sales df\n",
    "years = sales['month'].dt.year.unique()[1:]\n",
    "year_sales = pd.DataFrame({'year': years, 'qind': 0, 'qdist': 0, 'qtotal': 0})\n",
    "\n",
    "#select the 4 target sales months and sum \n",
    "m = 4\n",
    "for i in range(5):\n",
    "    yearly_sum = sales[m:m+4].sum()\n",
    "    m += 12\n",
    "\n",
    "    #iterate through columns to write the results\n",
    "    for n in range(1,4):\n",
    "        year_sales.iloc[i, n] = yearly_sum[n-1]"
   ]
  },
  {
   "cell_type": "code",
   "execution_count": 78,
   "metadata": {
    "ExecuteTime": {
     "end_time": "2022-11-23T17:55:56.542652Z",
     "start_time": "2022-11-23T17:55:56.517120Z"
    },
    "scrolled": true
   },
   "outputs": [
    {
     "data": {
      "text/html": [
       "<div>\n",
       "<style scoped>\n",
       "    .dataframe tbody tr th:only-of-type {\n",
       "        vertical-align: middle;\n",
       "    }\n",
       "\n",
       "    .dataframe tbody tr th {\n",
       "        vertical-align: top;\n",
       "    }\n",
       "\n",
       "    .dataframe thead th {\n",
       "        text-align: right;\n",
       "    }\n",
       "</style>\n",
       "<table border=\"1\" class=\"dataframe\">\n",
       "  <thead>\n",
       "    <tr style=\"text-align: right;\">\n",
       "      <th></th>\n",
       "      <th>year</th>\n",
       "      <th>qind</th>\n",
       "      <th>qdist</th>\n",
       "      <th>qtotal</th>\n",
       "    </tr>\n",
       "  </thead>\n",
       "  <tbody>\n",
       "    <tr>\n",
       "      <th>0</th>\n",
       "      <td>2018</td>\n",
       "      <td>3307.0</td>\n",
       "      <td>9430.0</td>\n",
       "      <td>12737.0</td>\n",
       "    </tr>\n",
       "    <tr>\n",
       "      <th>1</th>\n",
       "      <td>2019</td>\n",
       "      <td>7321.0</td>\n",
       "      <td>21564.0</td>\n",
       "      <td>28885.0</td>\n",
       "    </tr>\n",
       "    <tr>\n",
       "      <th>2</th>\n",
       "      <td>2020</td>\n",
       "      <td>10411.0</td>\n",
       "      <td>22474.0</td>\n",
       "      <td>32885.0</td>\n",
       "    </tr>\n",
       "    <tr>\n",
       "      <th>3</th>\n",
       "      <td>2021</td>\n",
       "      <td>20247.0</td>\n",
       "      <td>26448.0</td>\n",
       "      <td>46695.0</td>\n",
       "    </tr>\n",
       "    <tr>\n",
       "      <th>4</th>\n",
       "      <td>2022</td>\n",
       "      <td>19314.0</td>\n",
       "      <td>36656.0</td>\n",
       "      <td>55970.0</td>\n",
       "    </tr>\n",
       "  </tbody>\n",
       "</table>\n",
       "</div>"
      ],
      "text/plain": [
       "   year     qind    qdist   qtotal\n",
       "0  2018   3307.0   9430.0  12737.0\n",
       "1  2019   7321.0  21564.0  28885.0\n",
       "2  2020  10411.0  22474.0  32885.0\n",
       "3  2021  20247.0  26448.0  46695.0\n",
       "4  2022  19314.0  36656.0  55970.0"
      ]
     },
     "execution_count": 78,
     "metadata": {},
     "output_type": "execute_result"
    }
   ],
   "source": [
    "#the result is a df with the total yearly sales for each custumer and total\n",
    "year_sales"
   ]
  },
  {
   "cell_type": "code",
   "execution_count": 93,
   "metadata": {
    "ExecuteTime": {
     "end_time": "2022-11-23T18:38:11.802591Z",
     "start_time": "2022-11-23T18:38:11.784901Z"
    }
   },
   "outputs": [],
   "source": [
    "def regression_line(df, date_col, obj_col):\n",
    "    \n",
    "    #fit func\n",
    "    x = np.arange(df[date_col].size)\n",
    "    fit = np.polyfit(x, df[obj_col], deg=1)\n",
    "    fit_func = np.poly1d(fit)\n",
    "        \n",
    "    return fit_func"
   ]
  },
  {
   "cell_type": "code",
   "execution_count": 99,
   "metadata": {
    "ExecuteTime": {
     "end_time": "2022-11-23T18:45:06.695990Z",
     "start_time": "2022-11-23T18:45:06.689273Z"
    }
   },
   "outputs": [],
   "source": [
    "def regression_forecast(reg_fit_func, df, obj_col):\n",
    "    \"\"\"create regression function and make one step ahead forecast\"\"\"\n",
    "\n",
    "    #make the forecast\n",
    "    prediction = reg_fit_func(df[obj_col].size + 0.1)\n",
    "    \n",
    "    return prediction"
   ]
  },
  {
   "cell_type": "code",
   "execution_count": 110,
   "metadata": {
    "ExecuteTime": {
     "end_time": "2022-11-23T18:57:45.210648Z",
     "start_time": "2022-11-23T18:57:45.188116Z"
    }
   },
   "outputs": [],
   "source": [
    "def plot_regression(df, date_col, obj_col, fit_func, forecast=True):\n",
    "    \"\"\"cria funcao de regressao e plota o grafico\"\"\"\n",
    "\n",
    "    if forecast==True:\n",
    "        value = regression_forecast(fit_func, df, obj_col)\n",
    "        \n",
    "        add = {date_col: df[date_col].iloc[-1] +1, obj_col: value}\n",
    "        df = df.append(add, ignore_index=True)\n",
    "    \n",
    "    x = np.arange(df[date_col].size)\n",
    "    \n",
    "    #create figure\n",
    "    plt.figure(figsize=[12, 5])\n",
    "    #linear regression plot\n",
    "    plt.plot(df[date_col], fit_func(x))\n",
    "    #time series data plot\n",
    "    \n",
    "    ##tem que tirar a previsao das receitas reais!\n",
    "    plt.plot(df[date_col], df[obj_col])\n",
    "    plt.xticks(rotation=20)\n",
    "    #legenda\n",
    "    plt.legend(labels=['Tendência', 'Receitas reais'])\n",
    "    #plt.xlabel('Data')\n",
    "    #plt.ylabel('Receitas')\n",
    "    plt.title('Tendência de vendas')\n",
    "    "
   ]
  },
  {
   "cell_type": "code",
   "execution_count": 100,
   "metadata": {
    "ExecuteTime": {
     "end_time": "2022-11-23T18:45:10.546632Z",
     "start_time": "2022-11-23T18:45:10.538197Z"
    }
   },
   "outputs": [],
   "source": [
    "#call the functions \n",
    "reg_func = regression_line(year_sales, 'year', 'qtotal')\n",
    "forecast = regression_forecast(reg_func, year_sales, 'qtotal')"
   ]
  },
  {
   "cell_type": "code",
   "execution_count": 111,
   "metadata": {
    "ExecuteTime": {
     "end_time": "2022-11-23T18:57:52.375941Z",
     "start_time": "2022-11-23T18:57:52.221237Z"
    },
    "scrolled": true
   },
   "outputs": [
    {
     "data": {
      "image/png": "[encoded data removed]",
      "text/plain": [
       "<Figure size 864x360 with 1 Axes>"
      ]
     },
     "metadata": {
      "needs_background": "light"
     },
     "output_type": "display_data"
    }
   ],
   "source": [
    "plot_regression(year_sales, 'year', 'qtotal', reg_func)"
   ]
  },
  {
   "cell_type": "code",
   "execution_count": null,
   "metadata": {},
   "outputs": [],
   "source": [
    "#save figure\n",
    "plt.savefig('Tendencia_vendas.png')"
   ]
  }
 ],
 "metadata": {
  "kernelspec": {
   "display_name": "Python 3",
   "language": "python",
   "name": "python3"
  },
  "language_info": {
   "codemirror_mode": {
    "name": "ipython",
    "version": 3
   },
   "file_extension": ".py",
   "mimetype": "text/x-python",
   "name": "python",
   "nbconvert_exporter": "python",
   "pygments_lexer": "ipython3",
   "version": "3.7.7"
  },
  "toc": {
   "base_numbering": 1,
   "nav_menu": {},
   "number_sections": false,
   "sideBar": true,
   "skip_h1_title": false,
   "title_cell": "Table of Contents",
   "title_sidebar": "Contents",
   "toc_cell": false,
   "toc_position": {},
   "toc_section_display": true,
   "toc_window_display": false
  }
 },
 "nbformat": 4,
 "nbformat_minor": 4
}
